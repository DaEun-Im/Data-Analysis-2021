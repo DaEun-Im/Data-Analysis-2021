{
 "metadata": {
  "language_info": {
   "codemirror_mode": {
    "name": "ipython",
    "version": 3
   },
   "file_extension": ".py",
   "mimetype": "text/x-python",
   "name": "python",
   "nbconvert_exporter": "python",
   "pygments_lexer": "ipython3",
   "version": "3.8.5"
  },
  "orig_nbformat": 2,
  "kernelspec": {
   "name": "python385jvsc74a57bd0dca0ade3e726a953b501b15e8e990130d2b7799f14cfd9f4271676035ebe5511",
   "display_name": "Python 3.8.5 64-bit ('base': conda)"
  }
 },
 "nbformat": 4,
 "nbformat_minor": 2,
 "cells": [
  {
   "cell_type": "code",
   "execution_count": 2,
   "metadata": {},
   "outputs": [],
   "source": [
    "import pandas as pd \n",
    "import folium"
   ]
  },
  {
   "cell_type": "code",
   "execution_count": 4,
   "metadata": {},
   "outputs": [],
   "source": [
    "park = pd.read_csv('서울시 주요 공원현황.csv', encoding='euc-kr')"
   ]
  },
  {
   "cell_type": "code",
   "execution_count": 5,
   "metadata": {},
   "outputs": [
    {
     "output_type": "execute_result",
     "data": {
      "text/plain": [
       "공원번호              0\n",
       "공원명               0\n",
       "공원개요              1\n",
       "면적                3\n",
       "개원일              10\n",
       "주요시설              8\n",
       "주요식물             44\n",
       "안내도              30\n",
       "오시는길             17\n",
       "이용시참고사항          12\n",
       "이미지               0\n",
       "지역                1\n",
       "공원주소              0\n",
       "관리부서              0\n",
       "전화번호              0\n",
       "X좌표(GRS80TM)     10\n",
       "Y좌표(GRS80TM)     10\n",
       "X좌표(WGS84)        1\n",
       "Y좌표(WGS84)        1\n",
       "바로가기            114\n",
       "dtype: int64"
      ]
     },
     "metadata": {},
     "execution_count": 5
    }
   ],
   "source": [
    "park.isnull().sum()   #park.isna().sum()"
   ]
  },
  {
   "cell_type": "code",
   "execution_count": 7,
   "metadata": {},
   "outputs": [],
   "source": [
    "park['면적'] = park.면적.fillna(0)"
   ]
  },
  {
   "cell_type": "code",
   "execution_count": null,
   "metadata": {},
   "outputs": [],
   "source": [
    "def calc_"
   ]
  }
 ]
}