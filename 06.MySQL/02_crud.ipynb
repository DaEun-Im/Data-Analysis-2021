{
 "metadata": {
  "language_info": {
   "codemirror_mode": {
    "name": "ipython",
    "version": 3
   },
   "file_extension": ".py",
   "mimetype": "text/x-python",
   "name": "python",
   "nbconvert_exporter": "python",
   "pygments_lexer": "ipython3",
   "version": "3.8.5"
  },
  "orig_nbformat": 2,
  "kernelspec": {
   "name": "python385jvsc74a57bd0dca0ade3e726a953b501b15e8e990130d2b7799f14cfd9f4271676035ebe5511",
   "display_name": "Python 3.8.5 64-bit ('base': conda)"
  }
 },
 "nbformat": 4,
 "nbformat_minor": 2,
 "cells": [
  {
   "source": [
    "# Python MySQL\n",
    "- CRUD Operation"
   ],
   "cell_type": "markdown",
   "metadata": {}
  },
  {
   "cell_type": "code",
   "execution_count": null,
   "metadata": {},
   "outputs": [],
   "source": [
    "import json\n",
    "import pymysql.cursors"
   ]
  },
  {
   "cell_type": "code",
   "execution_count": null,
   "metadata": {},
   "outputs": [],
   "source": [
    "with open('mysql.json','r') as file:\n",
    "    config_str = file.read()\n",
    "config = json.loads(config_str)"
   ]
  },
  {
   "cell_type": "code",
   "execution_count": null,
   "metadata": {},
   "outputs": [],
   "source": [
    "conn = pymysql.connect(\n",
    "    host = config['host'],\n",
    "    user = config['host'],\n",
    "    password = config['password'],\n",
    "    database = config['team'],\n",
    "    port = config['port']\n",
    ")"
   ]
  },
  {
   "source": [
    "- 테이블 생성"
   ],
   "cell_type": "markdown",
   "metadata": {}
  },
  {
   "cell_type": "code",
   "execution_count": null,
   "metadata": {},
   "outputs": [],
   "source": [
    "sql_user = \"\"\"\n",
    "    create table if not exists users (\n",
    "        uid VARCHAR(20) NOT NULL PRIMARY KEY,\n",
    "        pwd CHAR(44)\n",
    "        uname VARCHAR(20) NOT NULL\n",
    "        reg_date DATETIME DEFAULT CURRENT_TIMESTAMP,\n",
    "        is_deleted INT DEFAULT 0\n",
    "    )\n",
    "\"\"\""
   ]
  },
  {
   "cell_type": "code",
   "execution_count": null,
   "metadata": {},
   "outputs": [],
   "source": [
    "cur = conn.cursor()\n",
    "cur.execute(sql_user)"
   ]
  },
  {
   "source": [
    "- 테이블 변경"
   ],
   "cell_type": "markdown",
   "metadata": {}
  },
  {
   "cell_type": "code",
   "execution_count": null,
   "metadata": {},
   "outputs": [],
   "source": [
    "cur.execute('alter table users add column email varchar(40);')"
   ]
  },
  {
   "source": [
    "- 데이터 입력"
   ],
   "cell_type": "markdown",
   "metadata": {}
  },
  {
   "cell_type": "code",
   "execution_count": null,
   "metadata": {},
   "outputs": [],
   "source": [
    "cur = conn.cursur()\n",
    "cur.execute(\"\n",
    "    insert into users(uid, uname) values('admin','관리자');\n",
    "\")\n",
    "\n",
    "#반드시 \"\" 로 써줘야함"
   ]
  },
  {
   "cell_type": "code",
   "execution_count": null,
   "metadata": {},
   "outputs": [],
   "source": [
    "cur.execute('select * from users;')\n",
    "row=cur.fetchall()\n",
    "for row in rows:\n",
    "    print(row)"
   ]
  },
  {
   "cell_type": "code",
   "execution_count": null,
   "metadata": {},
   "outputs": [],
   "source": [
    "sql_insert_multi = \"\"\"\n",
    "    INSERT INTO users(uid, uname)\n",
    "        VALUES('eskim','김은숙'),('wjlee','이우정');\n",
    "\"\"\""
   ]
  },
  {
   "cell_type": "code",
   "execution_count": null,
   "metadata": {},
   "outputs": [],
   "source": [
    "sql_select = \"\"\"\n",
    "    SELECT uid, uname,\n",
    "    DATE_FORMAT(reg_date, '%Y-%m-%d %h:%i') AS reg_date,\n",
    "    is deleted, email FROM users;\n",
    "\n",
    "\"\"\"\n",
    "cur.execute('select * from users;')\n",
    "row=cur.fetchall()\n",
    "for row in rows:\n",
    "    print(row)"
   ]
  },
  {
   "cell_type": "code",
   "execution_count": 1,
   "metadata": {},
   "outputs": [
    {
     "output_type": "error",
     "ename": "SyntaxError",
     "evalue": "invalid syntax (<ipython-input-1-6df9688d317d>, line 5)",
     "traceback": [
      "\u001b[0;36m  File \u001b[0;32m\"<ipython-input-1-6df9688d317d>\"\u001b[0;36m, line \u001b[0;32m5\u001b[0m\n\u001b[0;31m    sql =\u001b[0m\n\u001b[0m          ^\u001b[0m\n\u001b[0;31mSyntaxError\u001b[0m\u001b[0;31m:\u001b[0m invalid syntax\n"
     ]
    }
   ],
   "source": [
    "# 파라메터 이용, placeholder\n",
    "uid = 'djy'\n",
    "uname = '대조영'\n",
    "cur = conn.cursor()\n",
    "sql = \"INSERT INTO users(uid, uname) VALUES (%s,%s);\"\n",
    "cur.execute(sql, (uid, uname))\n",
    "conn.commit()"
   ]
  },
  {
   "cell_type": "code",
   "execution_count": 4,
   "metadata": {},
   "outputs": [
    {
     "output_type": "error",
     "ename": "NameError",
     "evalue": "name 'conn' is not defined",
     "traceback": [
      "\u001b[0;31m---------------------------------------------------------------------------\u001b[0m",
      "\u001b[0;31mNameError\u001b[0m                                 Traceback (most recent call last)",
      "\u001b[0;32m<ipython-input-4-816ae63835a4>\u001b[0m in \u001b[0;36m<module>\u001b[0;34m\u001b[0m\n\u001b[1;32m      1\u001b[0m \u001b[0muid\u001b[0m \u001b[0;34m=\u001b[0m \u001b[0;34m'gdhong'\u001b[0m\u001b[0;34m\u001b[0m\u001b[0;34m\u001b[0m\u001b[0m\n\u001b[0;32m----> 2\u001b[0;31m \u001b[0mcur\u001b[0m \u001b[0;34m=\u001b[0m \u001b[0mconn\u001b[0m\u001b[0;34m.\u001b[0m\u001b[0mcursor\u001b[0m\u001b[0;34m(\u001b[0m\u001b[0;34m)\u001b[0m\u001b[0;34m\u001b[0m\u001b[0;34m\u001b[0m\u001b[0m\n\u001b[0m\u001b[1;32m      3\u001b[0m \u001b[0msql\u001b[0m \u001b[0;34m=\u001b[0m \u001b[0;34m\"INSERT INTO users(uid,uname) VALUES(%s,'홍길동');\"\u001b[0m\u001b[0;34m\u001b[0m\u001b[0;34m\u001b[0m\u001b[0m\n\u001b[1;32m      4\u001b[0m \u001b[0mcur\u001b[0m\u001b[0;34m.\u001b[0m\u001b[0mexecute\u001b[0m\u001b[0;34m(\u001b[0m\u001b[0msql\u001b[0m\u001b[0;34m,\u001b[0m \u001b[0;34m(\u001b[0m\u001b[0muid\u001b[0m\u001b[0;34m,\u001b[0m\u001b[0;34m)\u001b[0m\u001b[0;34m)\u001b[0m\u001b[0;34m\u001b[0m\u001b[0;34m\u001b[0m\u001b[0m\n\u001b[1;32m      5\u001b[0m \u001b[0mconn\u001b[0m\u001b[0;34m.\u001b[0m\u001b[0mcommit\u001b[0m\u001b[0;34m(\u001b[0m\u001b[0;34m)\u001b[0m\u001b[0;34m\u001b[0m\u001b[0;34m\u001b[0m\u001b[0m\n",
      "\u001b[0;31mNameError\u001b[0m: name 'conn' is not defined"
     ]
    }
   ],
   "source": [
    "uid = 'gdhong'\n",
    "cur = conn.cursor()\n",
    "sql = \"INSERT INTO users(uid,uname) VALUES(%s,'홍길동');\"\n",
    "cur.execute(sql, (uid,))\n",
    "conn.commit()"
   ]
  },
  {
   "cell_type": "code",
   "execution_count": null,
   "metadata": {},
   "outputs": [],
   "source": [
    "users = (('jbpark','박재범'),('vincenzo','빈센조'))\n",
    "cur = conn.cursor()\n",
    "sql = \"INSERT INTO users(uid,uname) VALUES(%s,%s);\"\n",
    "#아래 for문은 cur.executemany(sql, users)\n",
    "for user in users:\n",
    "    cur.execute(sql, user)\n",
    "conn.commit()"
   ]
  },
  {
   "source": [
    "- 데이터 삭제"
   ],
   "cell_type": "markdown",
   "metadata": {}
  },
  {
   "cell_type": "code",
   "execution_count": null,
   "metadata": {},
   "outputs": [],
   "source": [
    "cur = conn.cursor()\n",
    "sql = \"DELETE FROM users WHERE uid != 'admin' ;\"\n",
    "cur.execute(sql)\n",
    "conn.commit()"
   ]
  },
  {
   "cell_type": "code",
   "execution_count": null,
   "metadata": {},
   "outputs": [],
   "source": [
    "import pandas as pd\n",
    "uids = ['djy','eskim','gdhong','jbpark','vincenzo']\n",
    "unames=['대조영','김은숙','홍길동','박재범','빈센조','이우정']\n",
    "df= pd.DataFrame({'uid':uids, 'uname':unames})"
   ]
  },
  {
   "cell_type": "code",
   "execution_count": null,
   "metadata": {},
   "outputs": [],
   "source": [
    "users = (('jbpark','박재범'),('vincenzo','빈센조'))\n",
    "cur = conn.cursor()\n",
    "sql = \"INSERT INTO users(uid,uname) VALUES(%s,%s);\"\n",
    "for i in df.index:\n",
    "    cur.execute(sql, user)\n",
    "conn.commit()"
   ]
  },
  {
   "source": [
    "- 데이터 수정"
   ],
   "cell_type": "markdown",
   "metadata": {}
  },
  {
   "cell_type": "code",
   "execution_count": null,
   "metadata": {},
   "outputs": [],
   "source": [
    "email = 'admin@korea.com'\n",
    "uid = admin\n",
    "cur = conn.cursor()\n",
    "sql = 'UPDATE users SET email=%s WHERE uid=%s'\n",
    "cur.execute(sql, (email,uid))\n",
    "conn.commit()"
   ]
  },
  {
   "cell_type": "code",
   "execution_count": null,
   "metadata": {},
   "outputs": [],
   "source": []
  },
  {
   "cell_type": "code",
   "execution_count": null,
   "metadata": {},
   "outputs": [],
   "source": []
  },
  {
   "cell_type": "code",
   "execution_count": null,
   "metadata": {},
   "outputs": [],
   "source": [
    "#모두 조회\n",
    "cur = conn.cursor()\n",
    "cur.execute(sql)\n",
    "results = cur.fetchall()\n",
    "for row in results:\n",
    "    print(row)"
   ]
  },
  {
   "cell_type": "code",
   "execution_count": null,
   "metadata": {},
   "outputs": [],
   "source": []
  },
  {
   "cell_type": "code",
   "execution_count": null,
   "metadata": {},
   "outputs": [],
   "source": []
  },
  {
   "cell_type": "code",
   "execution_count": null,
   "metadata": {},
   "outputs": [],
   "source": [
    "sql = 'UPDATE users SET pwd=%s where uid=%s'\n",
    "cur = conn.cursor()\n",
    "for row in results:\n",
    "    uid = row[0]\n",
    "    pwd = gen_pwd(uid+'12')\n",
    "    cur.execute(sql, (pwd,uid))\n",
    "conn.commit()"
   ]
  },
  {
   "cell_type": "code",
   "execution_count": null,
   "metadata": {},
   "outputs": [],
   "source": [
    "uid='fool'"
   ]
  },
  {
   "cell_type": "code",
   "execution_count": null,
   "metadata": {},
   "outputs": [],
   "source": [
    "sql =\"SELECT uid, pwd FROM users WHERE uid=%s;\"\n",
    "cur = conn.cursor()\n",
    "cur.execute(sql, (uid, ))"
   ]
  },
  {
   "cell_type": "code",
   "execution_count": null,
   "metadata": {},
   "outputs": [],
   "source": [
    "result = cur.fetchone()"
   ]
  },
  {
   "cell_type": "code",
   "execution_count": null,
   "metadata": {},
   "outputs": [],
   "source": [
    "result"
   ]
  },
  {
   "source": [
    "- 1), 2), 3)을 하나로 합치기"
   ],
   "cell_type": "markdown",
   "metadata": {}
  },
  {
   "cell_type": "code",
   "execution_count": null,
   "metadata": {},
   "outputs": [],
   "source": [
    "uid, pwd = \"SELECT uid, pwd FROM users WHERE uid=%s and is_deleted=0;\"\n",
    "cur = conn.cursor()\n",
    "cur.execute(sql,(uid, ))\n",
    "result = cur.fetchone()\n",
    "\n",
    "if result:\n",
    "    db_pwd = result[1]\n",
    "    hashed_pwd = gen_pwd(pwd)\n",
    "    if db_pwd == hased_pwd:\n",
    "        print('correct')\n",
    "    else:\n",
    "        print('incorrect password')\n",
    "else:\n",
    "    print('bad uid')\n"
   ]
  },
  {
   "cell_type": "code",
   "execution_count": null,
   "metadata": {},
   "outputs": [],
   "source": [
    "cur.close()\n",
    "conn.close()"
   ]
  }
 ]
}